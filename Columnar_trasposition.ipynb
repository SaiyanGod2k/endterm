{
 "cells": [
  {
   "cell_type": "code",
   "execution_count": 26,
   "metadata": {},
   "outputs": [
    {
     "name": "stdout",
     "output_type": "stream",
     "text": [
      "['h', 'a', 'c', 'k']\n",
      "['a', 'c', 'h', 'k']\n",
      "initial plaintext length 23\n",
      "helloutfkaiseho app log_ 24\n",
      "Row Col  6 4\n"
     ]
    }
   ],
   "source": [
    "key = \"hack\"\n",
    "key_lst =[letter for letter in key]\n",
    "print(key_lst)\n",
    "sorted_key=sorted(key_lst)\n",
    "print(sorted_key)\n",
    "\n",
    "\n",
    "plaintext=\"helloutfkaiseho app log\"\n",
    "plan_len = len(plaintext)\n",
    "print(\"initial plaintext length\",len(plaintext))\n",
    "cols = len(key)\n",
    "\n",
    "temp_row = plan_len % len(key)\n",
    "\n",
    "if temp_row == 0:\n",
    "    row = plan_len // len(key)\n",
    "else:\n",
    "    row = plan_len // len(key) +1\n",
    "    extra_spaces= len(key)-temp_row\n",
    "    plaintext+='_'*extra_spaces\n",
    "\n",
    "print(plaintext,len(plaintext))\n",
    "print(\"Row Col \",row,cols)"
   ]
  },
  {
   "cell_type": "code",
   "execution_count": 27,
   "metadata": {},
   "outputs": [
    {
     "name": "stdout",
     "output_type": "stream",
     "text": [
      "Columnar Trasposition\n",
      "['h', 'a', 'c', 'k']\n",
      "['h', 'e', 'l', 'l']\n",
      "['o', 'u', 't', 'f']\n",
      "['k', 'a', 'i', 's']\n",
      "['e', 'h', 'o', ' ']\n",
      "['a', 'p', 'p', ' ']\n",
      "['l', 'o', 'g', '_']\n"
     ]
    }
   ],
   "source": [
    "print(\"Columnar Trasposition\")\n",
    "print(key_lst)\n",
    "matrix =[]\n",
    "count=0\n",
    "for i in range(row):\n",
    "    temp=[]\n",
    "    for j in range(cols):\n",
    "        temp.append(plaintext[count])\n",
    "        count+=1\n",
    "    matrix.append(temp)\n",
    "\n",
    "\n",
    "for mat in matrix:\n",
    "    print(mat) \n"
   ]
  },
  {
   "cell_type": "code",
   "execution_count": 28,
   "metadata": {},
   "outputs": [
    {
     "name": "stdout",
     "output_type": "stream",
     "text": [
      "hack\n",
      "['a', 'c', 'h', 'k']\n",
      "[1, 2, 0, 3]\n",
      "Columnar Trasposition  euahpoltiopghokeallfs  _\n"
     ]
    }
   ],
   "source": [
    "# Encryption\n",
    "print(key)\n",
    "print(sorted_key)\n",
    "key_index=[key.index(letter) for letter in sorted_key]\n",
    "print(key_index)\n",
    "\n",
    "output = \"\"\n",
    "for elements in key_index:\n",
    "    for i in range(row):\n",
    "        output+=matrix[i][elements]\n",
    "         \n",
    "print(\"Columnar Trasposition \",output)"
   ]
  },
  {
   "cell_type": "code",
   "execution_count": 32,
   "metadata": {},
   "outputs": [
    {
     "name": "stdout",
     "output_type": "stream",
     "text": [
      "hack\n",
      "[1, 2, 0, 3]\n",
      "cipher row 6\n",
      "Cipher :  euahpoltiopghokeallfs  _\n",
      "['h', 'a', 'c', 'k']\n",
      "['h', 'e', 'l', 'l']\n",
      "['o', 'u', 't', 'f']\n",
      "['k', 'a', 'i', 's']\n",
      "['e', 'h', 'o', ' ']\n",
      "['a', 'p', 'p', ' ']\n",
      "['l', 'o', 'g', '_']\n",
      "Final Decrypted string :  helloutfkaiseho app log_\n"
     ]
    }
   ],
   "source": [
    "# Decryption \n",
    "print(key)\n",
    "print(key_index)\n",
    "\n",
    "dmatrix =[]\n",
    "\n",
    "cipher = output\n",
    "cipher_len= len(cipher)\n",
    "cipher_row = cipher_len // len(key)\n",
    "print(\"cipher row\",cipher_row)\n",
    "\n",
    "for i in range(cipher_row):\n",
    "    temp=[]\n",
    "    for j in range(len(key)):\n",
    "        temp.append('*')\n",
    "    dmatrix.append(temp)\n",
    "\n",
    "# print(dmatrix)\n",
    "count=0\n",
    "count_ind=0\n",
    "print(\"Cipher : \",cipher)\n",
    "print(key_lst)\n",
    "for col in range(len(key)):\n",
    "    key_ind = key_index[count_ind]\n",
    "    count_ind+=1\n",
    "    for row in range(cipher_row):\n",
    "        dmatrix[row][key_ind]=cipher[count]\n",
    "        # print(cipher[count])\n",
    "        count+=1\n",
    "\n",
    "\n",
    "plaintext=\"\"    \n",
    "for mat in dmatrix:\n",
    "    print(mat)\n",
    "    plaintext+= \"\".join(mat)\n",
    "print(\"Final Decrypted string : \",plaintext)"
   ]
  }
 ],
 "metadata": {
  "interpreter": {
   "hash": "b7158307fa67bee3c091cdd9c0858270916d0dc01f5ada930f43dc73ba6f8714"
  },
  "kernelspec": {
   "display_name": "Python 3.7.0 64-bit",
   "language": "python",
   "name": "python3"
  },
  "language_info": {
   "codemirror_mode": {
    "name": "ipython",
    "version": 3
   },
   "file_extension": ".py",
   "mimetype": "text/x-python",
   "name": "python",
   "nbconvert_exporter": "python",
   "pygments_lexer": "ipython3",
   "version": "3.7.0"
  },
  "orig_nbformat": 4
 },
 "nbformat": 4,
 "nbformat_minor": 2
}
