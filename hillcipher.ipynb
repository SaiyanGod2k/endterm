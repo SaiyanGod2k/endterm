{
 "cells": [
  {
   "cell_type": "code",
   "execution_count": 76,
   "metadata": {},
   "outputs": [
    {
     "name": "stdout",
     "output_type": "stream",
     "text": [
      "final key  anotherbz\n",
      "a n o \n",
      "t h e \n",
      "r b z \n",
      "[0, 13, 14]\n",
      "[19, 7, 4]\n",
      "[17, 1, 25]\n"
     ]
    }
   ],
   "source": [
    "import math\n",
    "plaintext = 'essential'\n",
    "plaintext=plaintext.lower()\n",
    "\n",
    "key = 'anotherbz'\n",
    "key=key.lower()\n",
    "\n",
    "# calculate value of n\n",
    "\n",
    "n = math.ceil(len(key)**0.5)\n",
    "\n",
    "if len(key) < n*n:\n",
    "    key= key+'a'*(n*n-len(key))\n",
    "print(\"final key \",key)\n",
    "\n",
    "\n",
    "\n",
    "# Generate Key matrix\n",
    "key_matrix =[] \n",
    "count=0\n",
    "for i in range(n):\n",
    "    temp=[]\n",
    "    for j in range(n):\n",
    "        print(key[count],end=\" \")\n",
    "        temp.append(ord(key[count])-97 )\n",
    "        count+=1\n",
    "    print()\n",
    "    key_matrix.append(temp)\n",
    "\n",
    "\n",
    "for row in key_matrix:\n",
    "    print(row)    \n"
   ]
  },
  {
   "cell_type": "code",
   "execution_count": 77,
   "metadata": {},
   "outputs": [
    {
     "name": "stdout",
     "output_type": "stream",
     "text": [
      "[[], [], []]\n",
      "essential\n",
      "[4, 4, 8]\n",
      "[18, 13, 0]\n",
      "[18, 19, 11]\n"
     ]
    }
   ],
   "source": [
    "# generate plaintext matrix\n",
    "# size should be n * x\n",
    "plain_matrix=[[] for i in range(n)]\n",
    "# plain_matrix=[]\n",
    "print(plain_matrix)\n",
    "print(plaintext)\n",
    "plain_len= len(plaintext)\n",
    "count=0\n",
    "\n",
    "row=0\n",
    "for letter in plaintext:\n",
    "    if row%n == 0:\n",
    "        row=0\n",
    "        plain_matrix[row].append(  ord(letter)-97  )\n",
    "    else:\n",
    "        plain_matrix[row].append( ord(letter) -97)\n",
    "    row+=1    \n",
    "\n",
    "    \n",
    "# extra error handling \n",
    "for i in range(len(plain_matrix)-1):\n",
    "    if len(plain_matrix[i]) != len(plain_matrix[i+1]):\n",
    "        plain_matrix[i+1].append(0)\n",
    "    \n",
    "for row in plain_matrix:\n",
    "    print(row)\n",
    "    \n",
    "    "
   ]
  },
  {
   "cell_type": "code",
   "execution_count": 78,
   "metadata": {},
   "outputs": [
    {
     "name": "stdout",
     "output_type": "stream",
     "text": [
      "[[0, 0, 0], [0, 0, 0], [0, 0, 0]]\n",
      "3\n",
      "\n",
      "\n",
      "\n",
      "Finally Encryption :  soqtjkyov\n"
     ]
    }
   ],
   "source": [
    "final_matrix =[[0 for i in range(len(plain_matrix[0]))] for i in range(n)]\n",
    "print(final_matrix)\n",
    "plain_col =len(plain_matrix[0])\n",
    "print(plain_col)\n",
    "\n",
    "\n",
    "for i in range(n):      #iteratre key matrix row\n",
    "    for j in range(len(plain_matrix[0])):\n",
    "        for k in range(n):\n",
    "            final_matrix[i][j] += key_matrix[i][k] * plain_matrix[k][j] \n",
    "\n",
    "for row in range(len(final_matrix)):\n",
    "    for col in range(len(final_matrix[0])):\n",
    "        final_matrix[row][col]= final_matrix[row][col]%26\n",
    "        # print(chr(final_matrix[row][col]+97),end=\" \")\n",
    "    print()\n",
    "\n",
    "cipher = \"\"\n",
    "for col in range(len(final_matrix[0])):\n",
    "    for row in range(len(final_matrix)):\n",
    "        final_matrix[row][col]= final_matrix[row][col]%26\n",
    "        cipher+=chr(final_matrix[row][col]+97)\n",
    "        # print(chr(final_matrix[row][col]+97),end=\" \")\n",
    "print(\"Finally Encryption : \",cipher)       "
   ]
  }
 ],
 "metadata": {
  "interpreter": {
   "hash": "b7158307fa67bee3c091cdd9c0858270916d0dc01f5ada930f43dc73ba6f8714"
  },
  "kernelspec": {
   "display_name": "Python 3.7.0 64-bit",
   "language": "python",
   "name": "python3"
  },
  "language_info": {
   "name": "python",
   "version": "3.7.0"
  },
  "orig_nbformat": 4
 },
 "nbformat": 4,
 "nbformat_minor": 2
}
